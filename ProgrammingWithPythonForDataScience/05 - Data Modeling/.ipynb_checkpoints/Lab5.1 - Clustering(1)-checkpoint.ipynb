{
 "cells": [
  {
   "cell_type": "markdown",
   "metadata": {},
   "source": [
    "# DAT210x - Programming with Python for DS"
   ]
  },
  {
   "cell_type": "markdown",
   "metadata": {},
   "source": [
    "## Module5- Lab1"
   ]
  },
  {
   "cell_type": "markdown",
   "metadata": {
    "collapsed": true
   },
   "source": [
    "Start by importing whatever you need to import in order to make this lab work:"
   ]
  },
  {
   "cell_type": "code",
   "execution_count": 1,
   "metadata": {},
   "outputs": [],
   "source": [
    "import math\n",
    "import pandas as pd\n",
    "import matplotlib.pyplot as plt\n",
    "import matplotlib\n",
    "\n",
    "from sklearn.cluster import KMeans\n",
    "\n",
    "plt.style.use('ggplot')"
   ]
  },
  {
   "cell_type": "markdown",
   "metadata": {
    "collapsed": true
   },
   "source": [
    "### How to Get The Dataset"
   ]
  },
  {
   "cell_type": "markdown",
   "metadata": {
    "collapsed": true
   },
   "source": [
    "1. Open up the City of Chicago's [Open Data | Crimes](https://data.cityofchicago.org/Public-Safety/Crimes-2001-to-present/ijzp-q8t2) page.\n",
    "1. In the `Primary Type` column, click on the `Menu` button next to the info button, and select `Filter This Column`. It might take a second for the filter option to show up, since it has to load the entire list first.\n",
    "1. Scroll down to `GAMBLING`\n",
    "1. Click the light blue `Export` button next to the `Filter` button, and select `Download As CSV`"
   ]
  },
  {
   "cell_type": "markdown",
   "metadata": {},
   "source": [
    "Now that you have th dataset stored as a CSV, load it up being careful to double check headers, as per usual:"
   ]
  },
  {
   "cell_type": "code",
   "execution_count": 2,
   "metadata": {},
   "outputs": [],
   "source": [
    "df = pd.read_csv('Datasets/Crimes_2018.csv')"
   ]
  },
  {
   "cell_type": "markdown",
   "metadata": {},
   "source": [
    "Get rid of any _rows_ that have nans in them:"
   ]
  },
  {
   "cell_type": "code",
   "execution_count": 3,
   "metadata": {},
   "outputs": [],
   "source": [
    "df = df.dropna(axis=0)\n",
    "df = df.reset_index(drop=True)"
   ]
  },
  {
   "cell_type": "markdown",
   "metadata": {},
   "source": [
    "Display the `dtypes` of your dset:"
   ]
  },
  {
   "cell_type": "code",
   "execution_count": 4,
   "metadata": {},
   "outputs": [
    {
     "data": {
      "text/plain": [
       "ID                        int64\n",
       "Case Number              object\n",
       "Date                     object\n",
       "Block                    object\n",
       "IUCR                      int64\n",
       "Primary Type             object\n",
       "Description              object\n",
       "Location Description     object\n",
       "Arrest                     bool\n",
       "Domestic                   bool\n",
       "Beat                      int64\n",
       "District                  int64\n",
       "Ward                      int64\n",
       "Community Area            int64\n",
       "FBI Code                  int64\n",
       "X Coordinate              int64\n",
       "Y Coordinate              int64\n",
       "Year                      int64\n",
       "Updated On               object\n",
       "Latitude                float64\n",
       "Longitude               float64\n",
       "Location                 object\n",
       "dtype: object"
      ]
     },
     "execution_count": 4,
     "metadata": {},
     "output_type": "execute_result"
    }
   ],
   "source": [
    "df.dtypes"
   ]
  },
  {
   "cell_type": "markdown",
   "metadata": {},
   "source": [
    "Coerce the `Date` feature (which is currently a string object) into real date, and confirm by displaying the `dtypes` again. This might be a slow executing process..."
   ]
  },
  {
   "cell_type": "code",
   "execution_count": 5,
   "metadata": {},
   "outputs": [
    {
     "data": {
      "text/plain": [
       "ID                               int64\n",
       "Case Number                     object\n",
       "Date                    datetime64[ns]\n",
       "Block                           object\n",
       "IUCR                             int64\n",
       "Primary Type                    object\n",
       "Description                     object\n",
       "Location Description            object\n",
       "Arrest                            bool\n",
       "Domestic                          bool\n",
       "Beat                             int64\n",
       "District                         int64\n",
       "Ward                             int64\n",
       "Community Area                   int64\n",
       "FBI Code                         int64\n",
       "X Coordinate                     int64\n",
       "Y Coordinate                     int64\n",
       "Year                             int64\n",
       "Updated On                      object\n",
       "Latitude                       float64\n",
       "Longitude                      float64\n",
       "Location                        object\n",
       "dtype: object"
      ]
     },
     "execution_count": 5,
     "metadata": {},
     "output_type": "execute_result"
    }
   ],
   "source": [
    "df.Date = pd.to_datetime(df.Date, errors='coerce')\n",
    "df.dtypes"
   ]
  },
  {
   "cell_type": "code",
   "execution_count": 6,
   "metadata": {},
   "outputs": [],
   "source": [
    "def doKMeans(df):\n",
    "    # Let's plot your data with a '.' marker, a 0.3 alpha at the Longitude,\n",
    "    # and Latitude locations in your dataset. Longitude = x, Latitude = y\n",
    "    fig = plt.figure()\n",
    "    ax = fig.add_subplot(111)\n",
    "    ax.scatter(df.Longitude, df.Latitude, marker='.', alpha=0.3)\n",
    "\n",
    "    \n",
    "    # TODO: Filter `df` using indexing so it only contains Longitude and Latitude,\n",
    "    # since the remaining columns aren't really applicable for this lab:\n",
    "    #\n",
    "    df = df[['Longitude', 'Latitude']]\n",
    "\n",
    "\n",
    "    # TODO: Use K-Means to try and find seven cluster centers in this df.\n",
    "    # Be sure to name your kmeans model `model` so that the printing works.\n",
    "    #\n",
    "    model = KMeans(n_clusters=7)\n",
    "    model.fit(df)\n",
    "    labels = model.predict(df)\n",
    "\n",
    "\n",
    "    # Now we can print and plot the centroids:\n",
    "    centroids = model.cluster_centers_\n",
    "    print(centroids)\n",
    "    ax.scatter(centroids[:,0], centroids[:,1], marker='x', c='red', alpha=0.5, linewidths=3, s=169)\n",
    "    plt.show()"
   ]
  },
  {
   "cell_type": "code",
   "execution_count": 7,
   "metadata": {},
   "outputs": [
    {
     "name": "stdout",
     "output_type": "stream",
     "text": [
      "[[-87.75900687  41.89115921]\n",
      " [-87.59795503  41.73167127]\n",
      " [-87.71502343  41.87860872]\n",
      " [-87.6708363   41.76968948]\n",
      " [-87.69230291  41.97879101]\n",
      " [-87.60600574  41.78339326]\n",
      " [-87.63536726  41.90341226]]\n"
     ]
    },
    {
     "data": {
      "image/png": "[encoded data removed]",
      "text/plain": [
       "<Figure size 432x288 with 1 Axes>"
      ]
     },
     "metadata": {
      "needs_background": "light"
     },
     "output_type": "display_data"
    }
   ],
   "source": [
    "# Print & Plot your data\n",
    "doKMeans(df)"
   ]
  }
 ],
 "metadata": {
  "anaconda-cloud": {},
  "kernelspec": {
   "display_name": "Python 3",
   "language": "python",
   "name": "python3"
  },
  "language_info": {
   "codemirror_mode": {
    "name": "ipython",
    "version": 3
   },
   "file_extension": ".py",
   "mimetype": "text/x-python",
   "name": "python",
   "nbconvert_exporter": "python",
   "pygments_lexer": "ipython3",
   "version": "3.5.5"
  },
  "toc": {
   "colors": {
    "hover_highlight": "#DAA520",
    "running_highlight": "#FF0000",
    "selected_highlight": "#FFD700"
   },
   "moveMenuLeft": true,
   "nav_menu": {
    "height": "58px",
    "width": "252px"
   },
   "navigate_menu": true,
   "number_sections": true,
   "sideBar": true,
   "threshold": 4,
   "toc_cell": false,
   "toc_section_display": "block",
   "toc_window_display": false,
   "widenNotebook": false
  }
 },
 "nbformat": 4,
 "nbformat_minor": 2
}
